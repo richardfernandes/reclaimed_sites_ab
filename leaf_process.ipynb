{
  "cells": [
    {
      "cell_type": "raw",
      "metadata": {},
      "source": [
        "---\n",
        "title: Process one site with LEAF-toolbox\n",
        "author: Ronny A. Hernández Mora\n",
        "editor: visual\n",
        "---"
      ]
    },
    {
      "cell_type": "markdown",
      "metadata": {},
      "source": [
        "## Imports\n"
      ]
    },
    {
      "cell_type": "code",
      "execution_count": 1,
      "metadata": {},
      "outputs": [],
      "source": [
        "import ee\n",
        "import matplotlib.pyplot as plt\n",
        "import pandas as pd"
      ]
    },
    {
      "cell_type": "markdown",
      "metadata": {},
      "source": [
        "## GEE authentication"
      ]
    },
    {
      "cell_type": "code",
      "execution_count": 2,
      "metadata": {},
      "outputs": [],
      "source": [
        "ee.Authenticate()\n",
        "ee.Initialize()"
      ]
    },
    {
      "cell_type": "markdown",
      "metadata": {},
      "source": [
        "Test if authentication was succesful"
      ]
    },
    {
      "cell_type": "code",
      "execution_count": 3,
      "metadata": {},
      "outputs": [
        {
          "name": "stdout",
          "output_type": "stream",
          "text": [
            "Hello from the Earth Engine servers!\n"
          ]
        }
      ],
      "source": [
        "print(ee.String('Hello from the Earth Engine servers!').getInfo())"
      ]
    },
    {
      "cell_type": "markdown",
      "metadata": {},
      "source": [
        "## LEAF-toolbox imports\n",
        "\n",
        "Modules imports cannot be done before GEE authentication have been run\n",
        "succesfuly"
      ]
    },
    {
      "cell_type": "code",
      "execution_count": 4,
      "metadata": {},
      "outputs": [
        {
          "name": "stderr",
          "output_type": "stream",
          "text": [
            "/home/ronny/.local/share/virtualenvs/reclaimed_sites_ab-QXta-KJo/lib/python3.10/site-packages/ee/deprecation.py:202: DeprecationWarning: \n",
            "\n",
            "Attention required for JRC/GSW1_0/GlobalSurfaceWater! You are using a deprecated asset.\n",
            "To ensure continued functionality, please update it.\n",
            "Learn more: https://developers.google.com/earth-engine/datasets/catalog/JRC_GSW1_0_GlobalSurfaceWater\n",
            "\n",
            "  warnings.warn(warning, category=DeprecationWarning)\n"
          ]
        }
      ],
      "source": [
        "from leaftoolbox import LEAF\n",
        "from leaftoolbox import SL2PV0 \n",
        "from leaftoolbox import SL2PV1"
      ]
    },
    {
      "cell_type": "markdown",
      "metadata": {},
      "source": [
        "# Process Collection of Input Images Returning GEE Collection of Output Products"
      ]
    },
    {
      "cell_type": "code",
      "execution_count": 5,
      "metadata": {},
      "outputs": [
        {
          "name": "stdout",
          "output_type": "stream",
          "text": [
            "6\n"
          ]
        },
        {
          "name": "stderr",
          "output_type": "stream",
          "text": [
            "/home/ronny/.local/share/virtualenvs/reclaimed_sites_ab-QXta-KJo/lib/python3.10/site-packages/ee/deprecation.py:202: DeprecationWarning: \n",
            "\n",
            "Attention required for COPERNICUS/Landcover/100m/Proba-V/Global! You are using a deprecated asset.\n",
            "To ensure continued functionality, please update it.\n",
            "Learn more: https://developers.google.com/earth-engine/datasets/catalog/COPERNICUS_Landcover_100m_Proba-V_Global\n",
            "\n",
            "  warnings.warn(warning, category=DeprecationWarning)\n"
          ]
        },
        {
          "name": "stdout",
          "output_type": "stream",
          "text": [
            "reprojecting\n",
            "['date', 'QC', 'longitude', 'latitude', 'estimateLAI', 'partition', 'networkID', 'errorLAI']\n"
          ]
        }
      ],
      "source": [
        "imageCollection = ee.ImageCollection('COPERNICUS/S2_SR_HARMONIZED') \\\n",
        "                    .filterDate('2020-08-01', '2020-08-16') \\\n",
        "                    .filter(ee.Filter.eq('MGRS_TILE','18TVQ'))\n",
        "print(imageCollection.size().getInfo())\n",
        "\n",
        "products = LEAF.makeProductImageCollection(imageCollection=imageCollection,algorithm=SL2PV0,variable='LAI',inputScaleSize=40) \n",
        "print(products.first().bandNames().getInfo())"
      ]
    },
    {
      "cell_type": "markdown",
      "metadata": {},
      "source": [
        "# Process Sites with output as a Pandas Data Frame"
      ]
    },
    {
      "cell_type": "code",
      "execution_count": 6,
      "metadata": {},
      "outputs": [],
      "source": [
        "siteList = [\"projects/ee-modis250/assets/HuntClub\",\n",
        "            \"projects/ee-modis250/assets/Nanaimo\",\n",
        "\t\t\t\"projects/ee-modis250/assets/Karachi\"]"
      ]
    },
    {
      "cell_type": "markdown",
      "metadata": {},
      "source": [
        "# Sample Surface Reflectance from various sensors over sites"
      ]
    },
    {
      "cell_type": "code",
      "execution_count": 7,
      "metadata": {},
      "outputs": [
        {
          "name": "stdout",
          "output_type": "stream",
          "text": [
            "\n",
            "STARTING LEAF IMAGE for  LANDSAT/LC08/C02/T1_L2 \n",
            " \n",
            "Site:  projects/ee-modis250/assets/HuntClub  with  1  features.\n",
            "Processing feature: 0  from  2021-04-01 00:00:00  to  2022-10-01 00:00:00\n"
          ]
        },
        {
          "name": "stderr",
          "output_type": "stream",
          "text": [
            "/home/ronny/Documents/repos/github/reclaimed_sites_ab/leaftoolbox/LEAF.py:308: FutureWarning: 'm' is deprecated and will be removed in a future version, please use 'ME' instead.\n",
            "  if (len(pd.date_range(startDate,endDate,freq='m')) > 0 ):\n",
            "/home/ronny/Documents/repos/github/reclaimed_sites_ab/leaftoolbox/LEAF.py:309: FutureWarning: 'm' is deprecated and will be removed in a future version, please use 'ME' instead.\n",
            "  dateRange = pd.DataFrame(pd.date_range(startDate,endDate,freq='m'),columns=['startDate'])\n"
          ]
        },
        {
          "name": "stdout",
          "output_type": "stream",
          "text": [
            "No images found.\n",
            "\n",
            "DONE LEAF SITE\n",
            "\n",
            "Site:  projects/ee-modis250/assets/Nanaimo  with  1  features.\n",
            "Processing feature: 0  from  2021-04-01 00:00:00  to  2022-10-01 00:00:00\n"
          ]
        },
        {
          "name": "stderr",
          "output_type": "stream",
          "text": [
            "/home/ronny/Documents/repos/github/reclaimed_sites_ab/leaftoolbox/LEAF.py:308: FutureWarning: 'm' is deprecated and will be removed in a future version, please use 'ME' instead.\n",
            "  if (len(pd.date_range(startDate,endDate,freq='m')) > 0 ):\n",
            "/home/ronny/Documents/repos/github/reclaimed_sites_ab/leaftoolbox/LEAF.py:309: FutureWarning: 'm' is deprecated and will be removed in a future version, please use 'ME' instead.\n",
            "  dateRange = pd.DataFrame(pd.date_range(startDate,endDate,freq='m'),columns=['startDate'])\n"
          ]
        },
        {
          "name": "stdout",
          "output_type": "stream",
          "text": [
            "No images found.\n",
            "No images found.\n",
            "\n",
            "DONE LEAF SITE\n",
            "\n",
            "Site:  projects/ee-modis250/assets/Karachi  with  1  features.\n",
            "Processing feature: 0  from  2021-04-01 00:00:00  to  2022-10-01 00:00:00\n"
          ]
        },
        {
          "name": "stderr",
          "output_type": "stream",
          "text": [
            "/home/ronny/Documents/repos/github/reclaimed_sites_ab/leaftoolbox/LEAF.py:308: FutureWarning: 'm' is deprecated and will be removed in a future version, please use 'ME' instead.\n",
            "  if (len(pd.date_range(startDate,endDate,freq='m')) > 0 ):\n",
            "/home/ronny/Documents/repos/github/reclaimed_sites_ab/leaftoolbox/LEAF.py:309: FutureWarning: 'm' is deprecated and will be removed in a future version, please use 'ME' instead.\n",
            "  dateRange = pd.DataFrame(pd.date_range(startDate,endDate,freq='m'),columns=['startDate'])\n"
          ]
        },
        {
          "name": "stdout",
          "output_type": "stream",
          "text": [
            "No images found.\n",
            "\n",
            "DONE LEAF SITE\n",
            "\n",
            "\n",
            "STARTING LEAF IMAGE for  LANDSAT/LC09/C02/T1_L2 \n",
            " \n",
            "Site:  projects/ee-modis250/assets/HuntClub  with  1  features.\n",
            "Processing feature: 0  from  2021-04-01 00:00:00  to  2022-10-01 00:00:00\n"
          ]
        },
        {
          "name": "stderr",
          "output_type": "stream",
          "text": [
            "/home/ronny/Documents/repos/github/reclaimed_sites_ab/leaftoolbox/LEAF.py:308: FutureWarning: 'm' is deprecated and will be removed in a future version, please use 'ME' instead.\n",
            "  if (len(pd.date_range(startDate,endDate,freq='m')) > 0 ):\n",
            "/home/ronny/Documents/repos/github/reclaimed_sites_ab/leaftoolbox/LEAF.py:309: FutureWarning: 'm' is deprecated and will be removed in a future version, please use 'ME' instead.\n",
            "  dateRange = pd.DataFrame(pd.date_range(startDate,endDate,freq='m'),columns=['startDate'])\n"
          ]
        },
        {
          "name": "stdout",
          "output_type": "stream",
          "text": [
            "No images found.\n",
            "No images found.\n",
            "No images found.\n",
            "No images found.\n",
            "No images found.\n",
            "No images found.\n",
            "No images found.\n",
            "No images found.\n",
            "\n",
            "DONE LEAF SITE\n",
            "\n",
            "Site:  projects/ee-modis250/assets/Nanaimo  with  1  features.\n",
            "Processing feature: 0  from  2021-04-01 00:00:00  to  2022-10-01 00:00:00\n"
          ]
        },
        {
          "name": "stderr",
          "output_type": "stream",
          "text": [
            "/home/ronny/Documents/repos/github/reclaimed_sites_ab/leaftoolbox/LEAF.py:308: FutureWarning: 'm' is deprecated and will be removed in a future version, please use 'ME' instead.\n",
            "  if (len(pd.date_range(startDate,endDate,freq='m')) > 0 ):\n",
            "/home/ronny/Documents/repos/github/reclaimed_sites_ab/leaftoolbox/LEAF.py:309: FutureWarning: 'm' is deprecated and will be removed in a future version, please use 'ME' instead.\n",
            "  dateRange = pd.DataFrame(pd.date_range(startDate,endDate,freq='m'),columns=['startDate'])\n"
          ]
        },
        {
          "name": "stdout",
          "output_type": "stream",
          "text": [
            "No images found.\n",
            "No images found.\n",
            "No images found.\n",
            "No images found.\n",
            "No images found.\n",
            "No images found.\n",
            "No images found.\n",
            "No images found.\n",
            "No images found.\n",
            "No images found.\n",
            "No images found.\n",
            "\n",
            "DONE LEAF SITE\n",
            "\n",
            "Site:  projects/ee-modis250/assets/Karachi  with  1  features.\n",
            "Processing feature: 0  from  2021-04-01 00:00:00  to  2022-10-01 00:00:00\n"
          ]
        },
        {
          "name": "stderr",
          "output_type": "stream",
          "text": [
            "/home/ronny/Documents/repos/github/reclaimed_sites_ab/leaftoolbox/LEAF.py:308: FutureWarning: 'm' is deprecated and will be removed in a future version, please use 'ME' instead.\n",
            "  if (len(pd.date_range(startDate,endDate,freq='m')) > 0 ):\n",
            "/home/ronny/Documents/repos/github/reclaimed_sites_ab/leaftoolbox/LEAF.py:309: FutureWarning: 'm' is deprecated and will be removed in a future version, please use 'ME' instead.\n",
            "  dateRange = pd.DataFrame(pd.date_range(startDate,endDate,freq='m'),columns=['startDate'])\n"
          ]
        },
        {
          "name": "stdout",
          "output_type": "stream",
          "text": [
            "No images found.\n",
            "No images found.\n",
            "No images found.\n",
            "No images found.\n",
            "No images found.\n",
            "No images found.\n",
            "No images found.\n",
            "No images found.\n",
            "\n",
            "DONE LEAF SITE\n",
            "\n"
          ]
        }
      ],
      "source": [
        "#Landsat 8\n",
        "sitesDictionaryL08SR = LEAF.sampleSites(siteList, \\\n",
        "                                                imageCollectionName='LANDSAT/LC08/C02/T1_L2',\\\n",
        "                                                algorithm=SL2PV0, \n",
        "                                                variableName=\"Surface_Reflectance\",\\\n",
        "                                                maxCloudcover=90,\\\n",
        "                                                outputScaleSize=30,\\\n",
        "                                                inputScaleSize=30,\\\n",
        "                                                bufferSpatialSize = 0,\\\n",
        "                                                bufferTemporalSize =[\"2021-04-01\",\"2022-10-01\"],  \\\n",
        "                                                subsamplingFraction = 0.99) \n",
        "# Landsat 9\n",
        "sitesDictionaryL09SR = LEAF.sampleSites(siteList, \\\n",
        "                                                imageCollectionName='LANDSAT/LC09/C02/T1_L2',\\\n",
        "                                                algorithm=SL2PV0, \n",
        "                                                variableName=\"Surface_Reflectance\",\\\n",
        "                                                outputScaleSize=30,\\\n",
        "                                                inputScaleSize=30,\\\n",
        "                                                bufferSpatialSize = 0,\\\n",
        "                                                bufferTemporalSize =[\"2021-04-01\",\"2022-10-01\"],  \\\n",
        "                                                subsamplingFraction = 0.99)"
      ]
    },
    {
      "cell_type": "code",
      "execution_count": 8,
      "metadata": {},
      "outputs": [
        {
          "name": "stdout",
          "output_type": "stream",
          "text": [
            "\n",
            "STARTING LEAF IMAGE for  LANDSAT/LC08/C02/T1_L2 \n",
            " \n",
            "Site:  projects/ee-modis250/assets/HuntClub  with  1  features.\n",
            "Processing feature: 0  from  2021-04-01 00:00:00  to  2022-10-01 00:00:00\n"
          ]
        },
        {
          "name": "stderr",
          "output_type": "stream",
          "text": [
            "/home/ronny/Documents/repos/github/reclaimed_sites_ab/leaftoolbox/LEAF.py:308: FutureWarning: 'm' is deprecated and will be removed in a future version, please use 'ME' instead.\n",
            "  if (len(pd.date_range(startDate,endDate,freq='m')) > 0 ):\n",
            "/home/ronny/Documents/repos/github/reclaimed_sites_ab/leaftoolbox/LEAF.py:309: FutureWarning: 'm' is deprecated and will be removed in a future version, please use 'ME' instead.\n",
            "  dateRange = pd.DataFrame(pd.date_range(startDate,endDate,freq='m'),columns=['startDate'])\n"
          ]
        },
        {
          "name": "stdout",
          "output_type": "stream",
          "text": [
            "No images found.\n",
            "\n",
            "DONE LEAF SITE\n",
            "\n",
            "Site:  projects/ee-modis250/assets/Nanaimo  with  1  features.\n",
            "Processing feature: 0  from  2021-04-01 00:00:00  to  2022-10-01 00:00:00\n"
          ]
        },
        {
          "name": "stderr",
          "output_type": "stream",
          "text": [
            "/home/ronny/Documents/repos/github/reclaimed_sites_ab/leaftoolbox/LEAF.py:308: FutureWarning: 'm' is deprecated and will be removed in a future version, please use 'ME' instead.\n",
            "  if (len(pd.date_range(startDate,endDate,freq='m')) > 0 ):\n",
            "/home/ronny/Documents/repos/github/reclaimed_sites_ab/leaftoolbox/LEAF.py:309: FutureWarning: 'm' is deprecated and will be removed in a future version, please use 'ME' instead.\n",
            "  dateRange = pd.DataFrame(pd.date_range(startDate,endDate,freq='m'),columns=['startDate'])\n"
          ]
        },
        {
          "name": "stdout",
          "output_type": "stream",
          "text": [
            "No images found.\n",
            "No images found.\n",
            "\n",
            "DONE LEAF SITE\n",
            "\n",
            "Site:  projects/ee-modis250/assets/Karachi  with  1  features.\n",
            "Processing feature: 0  from  2021-04-01 00:00:00  to  2022-10-01 00:00:00\n"
          ]
        },
        {
          "name": "stderr",
          "output_type": "stream",
          "text": [
            "/home/ronny/Documents/repos/github/reclaimed_sites_ab/leaftoolbox/LEAF.py:308: FutureWarning: 'm' is deprecated and will be removed in a future version, please use 'ME' instead.\n",
            "  if (len(pd.date_range(startDate,endDate,freq='m')) > 0 ):\n",
            "/home/ronny/Documents/repos/github/reclaimed_sites_ab/leaftoolbox/LEAF.py:309: FutureWarning: 'm' is deprecated and will be removed in a future version, please use 'ME' instead.\n",
            "  dateRange = pd.DataFrame(pd.date_range(startDate,endDate,freq='m'),columns=['startDate'])\n"
          ]
        },
        {
          "name": "stdout",
          "output_type": "stream",
          "text": [
            "No images found.\n",
            "\n",
            "DONE LEAF SITE\n",
            "\n",
            "\n",
            "STARTING LEAF IMAGE for  LANDSAT/LC09/C02/T1_L2 \n",
            " \n",
            "Site:  projects/ee-modis250/assets/HuntClub  with  1  features.\n",
            "Processing feature: 0  from  2021-04-01 00:00:00  to  2022-10-01 00:00:00\n"
          ]
        },
        {
          "name": "stderr",
          "output_type": "stream",
          "text": [
            "/home/ronny/Documents/repos/github/reclaimed_sites_ab/leaftoolbox/LEAF.py:308: FutureWarning: 'm' is deprecated and will be removed in a future version, please use 'ME' instead.\n",
            "  if (len(pd.date_range(startDate,endDate,freq='m')) > 0 ):\n",
            "/home/ronny/Documents/repos/github/reclaimed_sites_ab/leaftoolbox/LEAF.py:309: FutureWarning: 'm' is deprecated and will be removed in a future version, please use 'ME' instead.\n",
            "  dateRange = pd.DataFrame(pd.date_range(startDate,endDate,freq='m'),columns=['startDate'])\n"
          ]
        },
        {
          "name": "stdout",
          "output_type": "stream",
          "text": [
            "No images found.\n",
            "No images found.\n",
            "No images found.\n",
            "No images found.\n",
            "No images found.\n",
            "No images found.\n",
            "No images found.\n",
            "No images found.\n",
            "\n",
            "DONE LEAF SITE\n",
            "\n",
            "Site:  projects/ee-modis250/assets/Nanaimo  with  1  features.\n",
            "Processing feature: 0  from  2021-04-01 00:00:00  to  2022-10-01 00:00:00\n"
          ]
        },
        {
          "name": "stderr",
          "output_type": "stream",
          "text": [
            "/home/ronny/Documents/repos/github/reclaimed_sites_ab/leaftoolbox/LEAF.py:308: FutureWarning: 'm' is deprecated and will be removed in a future version, please use 'ME' instead.\n",
            "  if (len(pd.date_range(startDate,endDate,freq='m')) > 0 ):\n",
            "/home/ronny/Documents/repos/github/reclaimed_sites_ab/leaftoolbox/LEAF.py:309: FutureWarning: 'm' is deprecated and will be removed in a future version, please use 'ME' instead.\n",
            "  dateRange = pd.DataFrame(pd.date_range(startDate,endDate,freq='m'),columns=['startDate'])\n"
          ]
        },
        {
          "name": "stdout",
          "output_type": "stream",
          "text": [
            "No images found.\n",
            "No images found.\n",
            "No images found.\n",
            "No images found.\n",
            "No images found.\n",
            "No images found.\n",
            "No images found.\n",
            "No images found.\n",
            "No images found.\n",
            "No images found.\n",
            "No images found.\n",
            "\n",
            "DONE LEAF SITE\n",
            "\n",
            "Site:  projects/ee-modis250/assets/Karachi  with  1  features.\n",
            "Processing feature: 0  from  2021-04-01 00:00:00  to  2022-10-01 00:00:00\n"
          ]
        },
        {
          "name": "stderr",
          "output_type": "stream",
          "text": [
            "/home/ronny/Documents/repos/github/reclaimed_sites_ab/leaftoolbox/LEAF.py:308: FutureWarning: 'm' is deprecated and will be removed in a future version, please use 'ME' instead.\n",
            "  if (len(pd.date_range(startDate,endDate,freq='m')) > 0 ):\n",
            "/home/ronny/Documents/repos/github/reclaimed_sites_ab/leaftoolbox/LEAF.py:309: FutureWarning: 'm' is deprecated and will be removed in a future version, please use 'ME' instead.\n",
            "  dateRange = pd.DataFrame(pd.date_range(startDate,endDate,freq='m'),columns=['startDate'])\n"
          ]
        },
        {
          "name": "stdout",
          "output_type": "stream",
          "text": [
            "No images found.\n",
            "No images found.\n",
            "No images found.\n",
            "No images found.\n",
            "No images found.\n",
            "No images found.\n",
            "No images found.\n",
            "No images found.\n",
            "\n",
            "DONE LEAF SITE\n",
            "\n",
            "\n",
            "STARTING LEAF IMAGE for  NASA/HLS/HLSL30/v002 \n",
            " \n",
            "Site:  projects/ee-modis250/assets/HuntClub  with  1  features.\n",
            "Processing feature: 0  from  2021-04-01 00:00:00  to  2022-10-01 00:00:00\n"
          ]
        },
        {
          "name": "stderr",
          "output_type": "stream",
          "text": [
            "/home/ronny/Documents/repos/github/reclaimed_sites_ab/leaftoolbox/LEAF.py:308: FutureWarning: 'm' is deprecated and will be removed in a future version, please use 'ME' instead.\n",
            "  if (len(pd.date_range(startDate,endDate,freq='m')) > 0 ):\n",
            "/home/ronny/Documents/repos/github/reclaimed_sites_ab/leaftoolbox/LEAF.py:309: FutureWarning: 'm' is deprecated and will be removed in a future version, please use 'ME' instead.\n",
            "  dateRange = pd.DataFrame(pd.date_range(startDate,endDate,freq='m'),columns=['startDate'])\n"
          ]
        },
        {
          "name": "stdout",
          "output_type": "stream",
          "text": [
            "No images found.\n",
            "No images found.\n",
            "\n",
            "DONE LEAF SITE\n",
            "\n",
            "Site:  projects/ee-modis250/assets/Nanaimo  with  1  features.\n",
            "Processing feature: 0  from  2021-04-01 00:00:00  to  2022-10-01 00:00:00\n"
          ]
        },
        {
          "name": "stderr",
          "output_type": "stream",
          "text": [
            "/home/ronny/Documents/repos/github/reclaimed_sites_ab/leaftoolbox/LEAF.py:308: FutureWarning: 'm' is deprecated and will be removed in a future version, please use 'ME' instead.\n",
            "  if (len(pd.date_range(startDate,endDate,freq='m')) > 0 ):\n",
            "/home/ronny/Documents/repos/github/reclaimed_sites_ab/leaftoolbox/LEAF.py:309: FutureWarning: 'm' is deprecated and will be removed in a future version, please use 'ME' instead.\n",
            "  dateRange = pd.DataFrame(pd.date_range(startDate,endDate,freq='m'),columns=['startDate'])\n"
          ]
        },
        {
          "name": "stdout",
          "output_type": "stream",
          "text": [
            "No images found.\n",
            "No images found.\n",
            "\n",
            "DONE LEAF SITE\n",
            "\n",
            "Site:  projects/ee-modis250/assets/Karachi  with  1  features.\n",
            "Processing feature: 0  from  2021-04-01 00:00:00  to  2022-10-01 00:00:00\n"
          ]
        },
        {
          "name": "stderr",
          "output_type": "stream",
          "text": [
            "/home/ronny/Documents/repos/github/reclaimed_sites_ab/leaftoolbox/LEAF.py:308: FutureWarning: 'm' is deprecated and will be removed in a future version, please use 'ME' instead.\n",
            "  if (len(pd.date_range(startDate,endDate,freq='m')) > 0 ):\n",
            "/home/ronny/Documents/repos/github/reclaimed_sites_ab/leaftoolbox/LEAF.py:309: FutureWarning: 'm' is deprecated and will be removed in a future version, please use 'ME' instead.\n",
            "  dateRange = pd.DataFrame(pd.date_range(startDate,endDate,freq='m'),columns=['startDate'])\n"
          ]
        },
        {
          "name": "stdout",
          "output_type": "stream",
          "text": [
            "No images found.\n",
            "\n",
            "DONE LEAF SITE\n",
            "\n",
            "\n",
            "STARTING LEAF IMAGE for  COPERNICUS/S2_SR_HARMONIZED \n",
            " \n",
            "Site:  projects/ee-modis250/assets/HuntClub  with  1  features.\n",
            "Processing feature: 0  from  2021-04-01 00:00:00  to  2022-10-01 00:00:00\n"
          ]
        },
        {
          "name": "stderr",
          "output_type": "stream",
          "text": [
            "/home/ronny/Documents/repos/github/reclaimed_sites_ab/leaftoolbox/LEAF.py:308: FutureWarning: 'm' is deprecated and will be removed in a future version, please use 'ME' instead.\n",
            "  if (len(pd.date_range(startDate,endDate,freq='m')) > 0 ):\n",
            "/home/ronny/Documents/repos/github/reclaimed_sites_ab/leaftoolbox/LEAF.py:309: FutureWarning: 'm' is deprecated and will be removed in a future version, please use 'ME' instead.\n",
            "  dateRange = pd.DataFrame(pd.date_range(startDate,endDate,freq='m'),columns=['startDate'])\n"
          ]
        },
        {
          "name": "stdout",
          "output_type": "stream",
          "text": [
            "\n",
            "DONE LEAF SITE\n",
            "\n",
            "Site:  projects/ee-modis250/assets/Nanaimo  with  1  features.\n",
            "Processing feature: 0  from  2021-04-01 00:00:00  to  2022-10-01 00:00:00\n"
          ]
        },
        {
          "name": "stderr",
          "output_type": "stream",
          "text": [
            "/home/ronny/Documents/repos/github/reclaimed_sites_ab/leaftoolbox/LEAF.py:308: FutureWarning: 'm' is deprecated and will be removed in a future version, please use 'ME' instead.\n",
            "  if (len(pd.date_range(startDate,endDate,freq='m')) > 0 ):\n",
            "/home/ronny/Documents/repos/github/reclaimed_sites_ab/leaftoolbox/LEAF.py:309: FutureWarning: 'm' is deprecated and will be removed in a future version, please use 'ME' instead.\n",
            "  dateRange = pd.DataFrame(pd.date_range(startDate,endDate,freq='m'),columns=['startDate'])\n"
          ]
        },
        {
          "name": "stdout",
          "output_type": "stream",
          "text": [
            "\n",
            "DONE LEAF SITE\n",
            "\n",
            "Site:  projects/ee-modis250/assets/Karachi  with  1  features.\n",
            "Processing feature: 0  from  2021-04-01 00:00:00  to  2022-10-01 00:00:00\n"
          ]
        },
        {
          "name": "stderr",
          "output_type": "stream",
          "text": [
            "/home/ronny/Documents/repos/github/reclaimed_sites_ab/leaftoolbox/LEAF.py:308: FutureWarning: 'm' is deprecated and will be removed in a future version, please use 'ME' instead.\n",
            "  if (len(pd.date_range(startDate,endDate,freq='m')) > 0 ):\n",
            "/home/ronny/Documents/repos/github/reclaimed_sites_ab/leaftoolbox/LEAF.py:309: FutureWarning: 'm' is deprecated and will be removed in a future version, please use 'ME' instead.\n",
            "  dateRange = pd.DataFrame(pd.date_range(startDate,endDate,freq='m'),columns=['startDate'])\n"
          ]
        },
        {
          "name": "stdout",
          "output_type": "stream",
          "text": [
            "\n",
            "DONE LEAF SITE\n",
            "\n"
          ]
        }
      ],
      "source": [
        " #Landsat 8\n",
        "sitesDictionaryL08V0 = LEAF.sampleSites(siteList, \\\n",
        "                                                 imageCollectionName='LANDSAT/LC08/C02/T1_L2',\\\n",
        "                                                 algorithm=SL2PV0, \n",
        "                                                 variableName=\"LAI\",\\\n",
        "                                                 maxCloudcover=90,\\\n",
        "                                                 outputScaleSize=30,\\\n",
        "                                                 inputScaleSize=30,\\\n",
        "                                                 bufferSpatialSize = 0,\\\n",
        "                                                 bufferTemporalSize =[\"2021-04-01\",\"2022-10-01\"],  \\\n",
        "                                                 subsamplingFraction = 0.99) \n",
        "# Landsat 9\n",
        "sitesDictionaryL09V0 = LEAF.sampleSites(siteList, \\\n",
        "                                                imageCollectionName='LANDSAT/LC09/C02/T1_L2',\\\n",
        "                                                algorithm=SL2PV0, \n",
        "                                                variableName=\"LAI\",\\\n",
        "                                                maxCloudcover=90,\\\n",
        "                                                outputScaleSize=30,\\\n",
        "                                                inputScaleSize=30,\\\n",
        "                                                bufferSpatialSize = 0,\\\n",
        "                                                bufferTemporalSize =[\"2021-04-01\",\"2022-10-01\"],  \\\n",
        "                                                subsamplingFraction = 0.99)\n",
        "#HLS\n",
        "sitesDictionaryHLSV0 = LEAF.sampleSites(siteList, \\\n",
        "                                                imageCollectionName=\"NASA/HLS/HLSL30/v002\",\\\n",
        "                                                algorithm=SL2PV0, \n",
        "                                                variableName=\"LAI\",\\\n",
        "                                                maxCloudcover=90,\\\n",
        "                                                outputScaleSize=30,\\\n",
        "                                                inputScaleSize=30,\\\n",
        "                                                bufferSpatialSize = 0,\\\n",
        "                                                bufferTemporalSize =[\"2021-04-01\",\"2022-10-01\"],  \\\n",
        "                                                subsamplingFraction = 0.99)         \n",
        "\n",
        "# S2\n",
        "sitesDictionaryS2V0 = LEAF.sampleSites(siteList, \\\n",
        "                                                imageCollectionName=\"COPERNICUS/S2_SR_HARMONIZED\",\\\n",
        "                                                algorithm=SL2PV0, \n",
        "                                                variableName=\"LAI\",\\\n",
        "                                                maxCloudcover=90,\\\n",
        "                                                outputScaleSize=20,\\\n",
        "                                                inputScaleSize=20,\\\n",
        "                                                bufferSpatialSize = 0,\\\n",
        "                                                bufferTemporalSize =[\"2021-04-01\",\"2022-10-01\"],  \\\n",
        "                                                subsamplingFraction = 0.99)"
      ]
    },
    {
      "cell_type": "markdown",
      "metadata": {},
      "source": [
        "# Visualize Results\n",
        "\n",
        "Including one of the object\n"
      ]
    },
    {
      "cell_type": "code",
      "execution_count": 9,
      "metadata": {},
      "outputs": [
        {
          "data": {
            "image/png": "[encoded data removed]",
            "text/plain": [
              "<Figure size 1000x1000 with 1 Axes>"
            ]
          },
          "metadata": {},
          "output_type": "display_data"
        }
      ],
      "source": [
        "# Choose a site from the sitelist \n",
        "siteNum=0\n",
        "\n",
        "# Select the first feature \n",
        "featureNum = 0\n",
        "\n",
        "#Select one sampled pixel from each feature \n",
        "pixelNum = 3\n",
        "\n",
        "#Extract time series of LAI with high quality only\n",
        "site = sitesDictionaryL08V0[siteList[siteNum]]\n",
        "# print(site[featureNum]['leaftoolbox.SL2PV0'])\n",
        "df=site[featureNum]['leaftoolbox.SL2PV0']\n",
        "df['utc'] =  pd.to_datetime(df['date'],unit='ms')\n",
        "pixelL08V0=df.loc[(df['longitude']==df.loc[pixelNum].longitude) & (df['latitude']==df.loc[pixelNum].latitude) & (df['QC']==0)]\n",
        "site=sitesDictionaryL09V0[siteList[siteNum]]\n",
        "df=site[featureNum]['leaftoolbox.SL2PV0']\n",
        "df['utc'] =  pd.to_datetime(df['date'],unit='ms')\n",
        "pixelL09V0=df.loc[(df['longitude']==df.loc[pixelNum].longitude) & (df['latitude']==df.loc[pixelNum].latitude) & df['QC']==0]\n",
        "site=sitesDictionaryHLSV0[siteList[siteNum]]\n",
        "df=site[featureNum]['leaftoolbox.SL2PV0']\n",
        "df['utc'] =  pd.to_datetime(df['date'],unit='ms')\n",
        "pixelHLSV0=df.loc[(df['longitude']==df.loc[pixelNum].longitude) & (df['latitude']==df.loc[pixelNum].latitude) & df['QC']==0]\n",
        "site=sitesDictionaryS2V0[siteList[siteNum]]\n",
        "df=site[featureNum]['leaftoolbox.SL2PV0']\n",
        "df['utc'] =  pd.to_datetime(df['date'],unit='ms')\n",
        "pixelS2V0=df.loc[(df['longitude']==df.loc[pixelNum].longitude) & (df['latitude']==df.loc[pixelNum].latitude) & df['QC']==0]\n",
        "\n",
        "fig,ax = plt.subplots(1,1,figsize=[10,10])\n",
        "plt.plot(pixelL08V0['utc'],pixelL08V0['estimateLAI'],'ob',markerfacecolor='none', label='L08V1')\n",
        "plt.plot(pixelL09V0['utc'],pixelL09V0['estimateLAI'],'ok',markerfacecolor='none', label='L09V1')\n",
        "plt.plot(pixelHLSV0['utc'],pixelHLSV0['estimateLAI'],'oc',markerfacecolor='none', label='HLSV1')\n",
        "plt.plot(pixelS2V0['utc'],pixelS2V0['estimateLAI'],'or',markerfacecolor='none',label='S2V1')\n",
        "\n",
        "ax.legend()\n",
        "ax.set_xlabel('date')\n",
        "ax.set_ylabel('LAI')\n",
        "plt.xticks(rotation=90);"
      ]
    }
  ],
  "metadata": {
    "kernelspec": {
      "display_name": "Python 3 (ipykernel)",
      "language": "python",
      "name": "python3"
    },
    "language_info": {
      "codemirror_mode": {
        "name": "ipython",
        "version": 3
      },
      "file_extension": ".py",
      "mimetype": "text/x-python",
      "name": "python",
      "nbconvert_exporter": "python",
      "pygments_lexer": "ipython3",
      "version": "3.10.12"
    }
  },
  "nbformat": 4,
  "nbformat_minor": 4
}
