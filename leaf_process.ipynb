{
  "cells": [
    {
      "cell_type": "raw",
      "metadata": {},
      "source": [
        "---\n",
        "title: Process one site with LEAF-toolbox\n",
        "author: Ronny A. Hernández Mora\n",
        "editor: visual\n",
        "---"
      ]
    },
    {
      "cell_type": "markdown",
      "metadata": {},
      "source": [
        "## Imports\n"
      ]
    },
    {
      "cell_type": "code",
      "metadata": {},
      "source": [
        "import ee\n",
        "import matplotlib.pyplot as plt\n",
        "import pandas as pd"
      ],
      "execution_count": null,
      "outputs": []
    },
    {
      "cell_type": "markdown",
      "metadata": {},
      "source": [
        "## GEE authentication"
      ]
    },
    {
      "cell_type": "code",
      "metadata": {},
      "source": [
        "ee.Authenticate()\n",
        "ee.Initialize()"
      ],
      "execution_count": null,
      "outputs": []
    },
    {
      "cell_type": "markdown",
      "metadata": {},
      "source": [
        "Test if authentication was succesful"
      ]
    },
    {
      "cell_type": "code",
      "metadata": {},
      "source": [
        "print(ee.String('Hello from the Earth Engine servers!').getInfo())"
      ],
      "execution_count": null,
      "outputs": []
    },
    {
      "cell_type": "markdown",
      "metadata": {},
      "source": [
        "## LEAF-toolbox imports\n",
        "\n",
        "Modules imports cannot be done before GEE authentication have been run\n",
        "succesfuly"
      ]
    },
    {
      "cell_type": "code",
      "metadata": {},
      "source": [
        "from leaftoolbox import LEAF\n",
        "from leaftoolbox import SL2PV0 \n",
        "from leaftoolbox import SL2PV1"
      ],
      "execution_count": null,
      "outputs": []
    },
    {
      "cell_type": "markdown",
      "metadata": {},
      "source": [
        "# Process Collection of Input Images Returning GEE Collection of Output Products"
      ]
    },
    {
      "cell_type": "code",
      "metadata": {},
      "source": [
        "imageCollection = ee.ImageCollection('COPERNICUS/S2_SR_HARMONIZED') \\\n",
        "                    .filterDate('2020-08-01', '2020-08-16') \\\n",
        "                    .filter(ee.Filter.eq('MGRS_TILE','18TVQ'))\n",
        "print(imageCollection.size().getInfo())\n",
        "\n",
        "products = LEAF.makeProductImageCollection(imageCollection=imageCollection,algorithm=SL2PV0,variable='LAI',inputScaleSize=40) \n",
        "print(products.first().bandNames().getInfo())"
      ],
      "execution_count": null,
      "outputs": []
    },
    {
      "cell_type": "markdown",
      "metadata": {},
      "source": [
        "# Process Sites with output as a Pandas Data Frame"
      ]
    },
    {
      "cell_type": "code",
      "metadata": {},
      "source": [
        "siteList = [\"projects/ee-modis250/assets/HuntClub\",\n",
        "            \"projects/ee-modis250/assets/Nanaimo\",\n",
        "\t\t\t\"projects/ee-modis250/assets/Karachi\"]"
      ],
      "execution_count": null,
      "outputs": []
    },
    {
      "cell_type": "markdown",
      "metadata": {},
      "source": [
        "# Sample Surface Reflectance from various sensors over sites"
      ]
    },
    {
      "cell_type": "code",
      "metadata": {},
      "source": [
        "#Landsat 8\n",
        "sitesDictionaryL08SR = LEAF.sampleSites(siteList, \\\n",
        "                                                imageCollectionName='LANDSAT/LC08/C02/T1_L2',\\\n",
        "                                                algorithm=SL2PV0, \n",
        "                                                variableName=\"Surface_Reflectance\",\\\n",
        "                                                maxCloudcover=90,\\\n",
        "                                                outputScaleSize=30,\\\n",
        "                                                inputScaleSize=30,\\\n",
        "                                                bufferSpatialSize = 0,\\\n",
        "                                                bufferTemporalSize =[\"2021-04-01\",\"2022-10-01\"],  \\\n",
        "                                                subsamplingFraction = 0.99) \n",
        "# Landsat 9\n",
        "sitesDictionaryL09SR = LEAF.sampleSites(siteList, \\\n",
        "                                                imageCollectionName='LANDSAT/LC09/C02/T1_L2',\\\n",
        "                                                algorithm=SL2PV0, \n",
        "                                                variableName=\"Surface_Reflectance\",\\\n",
        "                                                outputScaleSize=30,\\\n",
        "                                                inputScaleSize=30,\\\n",
        "                                                bufferSpatialSize = 0,\\\n",
        "                                                bufferTemporalSize =[\"2021-04-01\",\"2022-10-01\"],  \\\n",
        "                                                subsamplingFraction = 0.99)"
      ],
      "execution_count": null,
      "outputs": []
    },
    {
      "cell_type": "code",
      "metadata": {},
      "source": [
        " #Landsat 8\n",
        "sitesDictionaryL08V0 = LEAF.sampleSites(siteList, \\\n",
        "                                                 imageCollectionName='LANDSAT/LC08/C02/T1_L2',\\\n",
        "                                                 algorithm=SL2PV0, \n",
        "                                                 variableName=\"LAI\",\\\n",
        "                                                 maxCloudcover=90,\\\n",
        "                                                 outputScaleSize=30,\\\n",
        "                                                 inputScaleSize=30,\\\n",
        "                                                 bufferSpatialSize = 0,\\\n",
        "                                                 bufferTemporalSize =[\"2021-04-01\",\"2022-10-01\"],  \\\n",
        "                                                 subsamplingFraction = 0.99) \n",
        "# Landsat 9\n",
        "sitesDictionaryL09V0 = LEAF.sampleSites(siteList, \\\n",
        "                                                imageCollectionName='LANDSAT/LC09/C02/T1_L2',\\\n",
        "                                                algorithm=SL2PV0, \n",
        "                                                variableName=\"LAI\",\\\n",
        "                                                maxCloudcover=90,\\\n",
        "                                                outputScaleSize=30,\\\n",
        "                                                inputScaleSize=30,\\\n",
        "                                                bufferSpatialSize = 0,\\\n",
        "                                                bufferTemporalSize =[\"2021-04-01\",\"2022-10-01\"],  \\\n",
        "                                                subsamplingFraction = 0.99)\n",
        "#HLS\n",
        "sitesDictionaryHLSV0 = LEAF.sampleSites(siteList, \\\n",
        "                                                imageCollectionName=\"NASA/HLS/HLSL30/v002\",\\\n",
        "                                                algorithm=SL2PV0, \n",
        "                                                variableName=\"LAI\",\\\n",
        "                                                maxCloudcover=90,\\\n",
        "                                                outputScaleSize=30,\\\n",
        "                                                inputScaleSize=30,\\\n",
        "                                                bufferSpatialSize = 0,\\\n",
        "                                                bufferTemporalSize =[\"2021-04-01\",\"2022-10-01\"],  \\\n",
        "                                                subsamplingFraction = 0.99)         \n",
        "\n",
        "# S2\n",
        "sitesDictionaryS2V0 = LEAF.sampleSites(siteList, \\\n",
        "                                                imageCollectionName=\"COPERNICUS/S2_SR_HARMONIZED\",\\\n",
        "                                                algorithm=SL2PV0, \n",
        "                                                variableName=\"LAI\",\\\n",
        "                                                maxCloudcover=90,\\\n",
        "                                                outputScaleSize=20,\\\n",
        "                                                inputScaleSize=20,\\\n",
        "                                                bufferSpatialSize = 0,\\\n",
        "                                                bufferTemporalSize =[\"2021-04-01\",\"2022-10-01\"],  \\\n",
        "                                                subsamplingFraction = 0.99)"
      ],
      "execution_count": null,
      "outputs": []
    },
    {
      "cell_type": "markdown",
      "metadata": {},
      "source": [
        "# Visualize Results\n"
      ]
    },
    {
      "cell_type": "code",
      "metadata": {},
      "source": [
        "# Choose a site from the sitelist \n",
        "siteNum=0\n",
        "\n",
        "# Select the first feature \n",
        "featureNum = 0\n",
        "\n",
        "#Select one sampled pixel from each feature \n",
        "pixelNum = 3\n",
        "\n",
        "#Extract time series of LAI with high quality only\n",
        "site = sitesDictionaryL08V0[siteList[siteNum]]\n",
        "# print(site[featureNum]['leaftoolbox.SL2PV0'])\n",
        "df=site[featureNum]['leaftoolbox.SL2PV0']\n",
        "df['utc'] =  pd.to_datetime(df['date'],unit='ms')\n",
        "pixelL08V0=df.loc[(df['longitude']==df.loc[pixelNum].longitude) & (df['latitude']==df.loc[pixelNum].latitude) & (df['QC']==0)]\n",
        "site=sitesDictionaryL09V0[siteList[siteNum]]\n",
        "df=site[featureNum]['leaftoolbox.SL2PV0']\n",
        "df['utc'] =  pd.to_datetime(df['date'],unit='ms')\n",
        "pixelL09V0=df.loc[(df['longitude']==df.loc[pixelNum].longitude) & (df['latitude']==df.loc[pixelNum].latitude) & df['QC']==0]\n",
        "site=sitesDictionaryHLSV0[siteList[siteNum]]\n",
        "df=site[featureNum]['leaftoolbox.SL2PV0']\n",
        "df['utc'] =  pd.to_datetime(df['date'],unit='ms')\n",
        "pixelHLSV0=df.loc[(df['longitude']==df.loc[pixelNum].longitude) & (df['latitude']==df.loc[pixelNum].latitude) & df['QC']==0]\n",
        "site=sitesDictionaryS2V0[siteList[siteNum]]\n",
        "df=site[featureNum]['leaftoolbox.SL2PV0']\n",
        "df['utc'] =  pd.to_datetime(df['date'],unit='ms')\n",
        "pixelS2V0=df.loc[(df['longitude']==df.loc[pixelNum].longitude) & (df['latitude']==df.loc[pixelNum].latitude) & df['QC']==0]\n",
        "\n",
        "fig,ax = plt.subplots(1,1,figsize=[10,10])\n",
        "plt.plot(pixelL08V0['utc'],pixelL08V0['estimateLAI'],'ob',markerfacecolor='none', label='L08V1')\n",
        "plt.plot(pixelL09V0['utc'],pixelL09V0['estimateLAI'],'ok',markerfacecolor='none', label='L09V1')\n",
        "plt.plot(pixelHLSV0['utc'],pixelHLSV0['estimateLAI'],'oc',markerfacecolor='none', label='HLSV1')\n",
        "plt.plot(pixelS2V0['utc'],pixelS2V0['estimateLAI'],'or',markerfacecolor='none',label='S2V1')\n",
        "\n",
        "ax.legend()\n",
        "ax.set_xlabel('date')\n",
        "ax.set_ylabel('LAI')\n",
        "plt.xticks(rotation=90);"
      ],
      "execution_count": null,
      "outputs": []
    }
  ],
  "metadata": {
    "kernelspec": {
      "name": "python3",
      "language": "python",
      "display_name": "Python 3 (ipykernel)"
    }
  },
  "nbformat": 4,
  "nbformat_minor": 4
}